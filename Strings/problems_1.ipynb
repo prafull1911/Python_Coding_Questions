{
 "cells": [
  {
   "cell_type": "markdown",
   "metadata": {},
   "source": [
    "## Check Palindrome"
   ]
  },
  {
   "cell_type": "code",
   "execution_count": 1,
   "metadata": {},
   "outputs": [
    {
     "name": "stdout",
     "output_type": "stream",
     "text": [
      "false\n"
     ]
    }
   ],
   "source": [
    "s = input()\n",
    "left = 0\n",
    "right = len(s)-1\n",
    "while left <= right:\n",
    "    if s[left] != s[right]:\n",
    "        print('false')\n",
    "        break\n",
    "    left+=1\n",
    "    right-=1\n",
    "else:\n",
    "    print('true') "
   ]
  },
  {
   "cell_type": "markdown",
   "metadata": {},
   "source": [
    "## Check Permutation"
   ]
  },
  {
   "cell_type": "code",
   "execution_count": 2,
   "metadata": {},
   "outputs": [],
   "source": [
    "from sys import stdin\n",
    "\n",
    "\n",
    "def isPermutation(string1, string2) :\n",
    "\t#Your code goes here\n",
    "    cnt = [0]*128\n",
    "    flag = True\n",
    "    for i in string1:\n",
    "        cnt[ord(i)]+=1\n",
    "    for i in string2:\n",
    "        cnt[ord(i)]-=1\n",
    "    for i in cnt:\n",
    "        if i!=0:\n",
    "            flag = False\n",
    "    \n",
    "    return flag"
   ]
  },
  {
   "cell_type": "markdown",
   "metadata": {},
   "source": [
    "## Remove Consecutive Duplicate"
   ]
  },
  {
   "cell_type": "code",
   "execution_count": 3,
   "metadata": {},
   "outputs": [],
   "source": [
    "from sys import stdin\n",
    "\n",
    "def removeConsecutiveDuplicates(string):\n",
    "    string = list(string)\n",
    "    i = 1\n",
    "    while i < len(string):\n",
    "        if string[i - 1] == string[i]:\n",
    "            string[i - 1] = \"\"\n",
    "        i += 1\n",
    "    \n",
    "    placeHere = 0\n",
    "    i = 0  # Resetting i for the next loop\n",
    "    while i < len(string):\n",
    "        if string[i] != \"\":\n",
    "            string[placeHere], string[i] = string[i], string[placeHere]\n",
    "            placeHere += 1\n",
    "        i += 1\n",
    "    \n",
    "    return \"\".join(string[:placeHere])"
   ]
  },
  {
   "cell_type": "markdown",
   "metadata": {},
   "source": [
    "## Reverse Each Word"
   ]
  },
  {
   "cell_type": "code",
   "execution_count": 4,
   "metadata": {},
   "outputs": [],
   "source": [
    "from sys import stdin\n",
    "\n",
    "\n",
    "def reverseEachWord(string) :\n",
    "\t# Your code goes here\n",
    "\tlst = string.split(\" \")\n",
    "\tfor i in range(len(lst)):\n",
    "\t\tlst[i] = lst[i][::-1]\n",
    "\treturn \" \".join(lst)\n"
   ]
  }
 ],
 "metadata": {
  "kernelspec": {
   "display_name": "Python 3",
   "language": "python",
   "name": "python3"
  },
  "language_info": {
   "codemirror_mode": {
    "name": "ipython",
    "version": 3
   },
   "file_extension": ".py",
   "mimetype": "text/x-python",
   "name": "python",
   "nbconvert_exporter": "python",
   "pygments_lexer": "ipython3",
   "version": "3.12.3"
  }
 },
 "nbformat": 4,
 "nbformat_minor": 2
}
