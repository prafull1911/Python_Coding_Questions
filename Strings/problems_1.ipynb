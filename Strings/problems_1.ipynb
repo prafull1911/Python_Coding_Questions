{
 "cells": [
  {
   "cell_type": "markdown",
   "metadata": {},
   "source": [
    "## Check Palindrome"
   ]
  },
  {
   "cell_type": "code",
   "execution_count": 1,
   "metadata": {},
   "outputs": [
    {
     "name": "stdout",
     "output_type": "stream",
     "text": [
      "true\n"
     ]
    }
   ],
   "source": [
    "s = input()\n",
    "left = 0\n",
    "right = len(s)-1\n",
    "while left <= right:\n",
    "    if s[left] != s[right]:\n",
    "        print('false')\n",
    "        break\n",
    "    left+=1\n",
    "    right-=1\n",
    "else:\n",
    "    print('true') "
   ]
  },
  {
   "cell_type": "markdown",
   "metadata": {},
   "source": [
    "## Check Permutation"
   ]
  },
  {
   "cell_type": "code",
   "execution_count": 2,
   "metadata": {},
   "outputs": [],
   "source": [
    "from sys import stdin\n",
    "\n",
    "\n",
    "def isPermutation(string1, string2) :\n",
    "\t#Your code goes here\n",
    "    cnt = [0]*128\n",
    "    flag = True\n",
    "    for i in string1:\n",
    "        cnt[ord(i)]+=1\n",
    "    for i in string2:\n",
    "        cnt[ord(i)]-=1\n",
    "    for i in cnt:\n",
    "        if i!=0:\n",
    "            flag = False\n",
    "    \n",
    "    return flag"
   ]
  },
  {
   "cell_type": "markdown",
   "metadata": {},
   "source": [
    "## Remove Consecutive Duplicate"
   ]
  },
  {
   "cell_type": "code",
   "execution_count": 3,
   "metadata": {},
   "outputs": [],
   "source": [
    "from sys import stdin\n",
    "\n",
    "def removeConsecutiveDuplicates(string):\n",
    "    string = list(string)\n",
    "    i = 1\n",
    "    while i < len(string):\n",
    "        if string[i - 1] == string[i]:\n",
    "            string[i - 1] = \"\"\n",
    "        i += 1\n",
    "    \n",
    "    placeHere = 0\n",
    "    i = 0  # Resetting i for the next loop\n",
    "    while i < len(string):\n",
    "        if string[i] != \"\":\n",
    "            string[placeHere], string[i] = string[i], string[placeHere]\n",
    "            placeHere += 1\n",
    "        i += 1\n",
    "    \n",
    "    return \"\".join(string[:placeHere])\n"
   ]
  },
  {
   "cell_type": "code",
   "execution_count": null,
   "metadata": {},
   "outputs": [],
   "source": [
    "# Solution2\n",
    "\n",
    "def removeConsecutiveDuplicates(string):\n",
    "    s = string[0]\n",
    "    for i in range(1,len(string)):\n",
    "        if string[i-1]!=string[i]:\n",
    "            s+=string[i]\n",
    "    return s"
   ]
  },
  {
   "cell_type": "markdown",
   "metadata": {},
   "source": [
    "## Reverse Each Word"
   ]
  },
  {
   "cell_type": "code",
   "execution_count": 4,
   "metadata": {},
   "outputs": [],
   "source": [
    "from sys import stdin\n",
    "\n",
    "\n",
    "def reverseEachWord(string) :\n",
    "\t# Your code goes here\n",
    "\tlst = string.split(\" \")\n",
    "\tfor i in range(len(lst)):\n",
    "\t\tlst[i] = lst[i][::-1]\n",
    "\treturn \" \".join(lst)\n"
   ]
  },
  {
   "cell_type": "markdown",
   "metadata": {},
   "source": [
    "## Remove Character"
   ]
  },
  {
   "cell_type": "code",
   "execution_count": 5,
   "metadata": {},
   "outputs": [],
   "source": [
    "from sys import stdin\n",
    "\n",
    "\n",
    "def removeAllOccurrencesOfChar(string, ch) :\n",
    "\t# Your code goes here\n",
    "\ts = \"\"\n",
    "\tfor i in string:\n",
    "\t\tif i==ch:\n",
    "\t\t\ts+=\"\"\n",
    "\t\telse:\n",
    "\t\t\ts+=i\n",
    "\treturn s"
   ]
  },
  {
   "cell_type": "markdown",
   "metadata": {},
   "source": [
    "## Highest Occuring Character"
   ]
  },
  {
   "cell_type": "code",
   "execution_count": 6,
   "metadata": {},
   "outputs": [],
   "source": [
    "from sys import stdin\n",
    "\n",
    "\n",
    "def highestOccuringChar(string) :\n",
    "\t#Your code goes here\n",
    "\tif len(string) <= 2:\n",
    "\t\treturn string[0]\n",
    "\tlst = [0]*128\n",
    "\tfor i in string:\n",
    "\t\tlst[ord(i)]+=1\n",
    "\t\n",
    "\tmax_char = lst[0]\n",
    "\tfor i in range(len(lst)):\n",
    "\t\tif lst[i] > max_char:\n",
    "\t\t\tmax_char = lst[i]\n",
    "\tfor i in range(len(lst)):\n",
    "\t\tif lst[i] == max_char:\n",
    "\t\t\treturn chr(i)"
   ]
  },
  {
   "cell_type": "markdown",
   "metadata": {},
   "source": [
    "## Compress The String"
   ]
  },
  {
   "cell_type": "code",
   "execution_count": 7,
   "metadata": {},
   "outputs": [],
   "source": [
    "from sys import stdin,setrecursionlimit\n",
    "setrecursionlimit(10**7)\n",
    "\n",
    "\n",
    "def getCompressedString(input) :\n",
    "\t# Write your code here.\n",
    "    s = \"\"\n",
    "    m = len(input)\n",
    "    next_ptr = 0\n",
    "    while next_ptr < m:\n",
    "        count = 1\n",
    "        for j in range(next_ptr + 1, m):\n",
    "            if input[j] != input[next_ptr]:\n",
    "                break\n",
    "            count += 1\n",
    "            next_ptr += 1\n",
    "        if count > 1:\n",
    "            s += input[next_ptr] + str(count)\n",
    "        else:\n",
    "            s += input[next_ptr]\n",
    "        next_ptr += 1\n",
    "    return s"
   ]
  }
 ],
 "metadata": {
  "kernelspec": {
   "display_name": "Python 3",
   "language": "python",
   "name": "python3"
  },
  "language_info": {
   "codemirror_mode": {
    "name": "ipython",
    "version": 3
   },
   "file_extension": ".py",
   "mimetype": "text/x-python",
   "name": "python",
   "nbconvert_exporter": "python",
   "pygments_lexer": "ipython3",
   "version": "3.12.3"
  }
 },
 "nbformat": 4,
 "nbformat_minor": 2
}
