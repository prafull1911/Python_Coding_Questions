{
 "cells": [
  {
   "cell_type": "markdown",
   "metadata": {},
   "source": [
    "## Push Zeros to End"
   ]
  },
  {
   "cell_type": "code",
   "execution_count": 1,
   "metadata": {},
   "outputs": [],
   "source": [
    "from sys import stdin\n",
    "\n",
    "def pushZerosAtEnd(arr, n):\n",
    "    \n",
    "    non_zero_pos = 0\n",
    "    \n",
    "    \n",
    "    for i in range(n):\n",
    "        \n",
    "        if arr[i] != 0:\n",
    "            arr[non_zero_pos], arr[i] = arr[i], arr[non_zero_pos]\n",
    "            non_zero_pos += 1\n",
    "    "
   ]
  },
  {
   "cell_type": "markdown",
   "metadata": {},
   "source": [
    "## Second Largest In Array"
   ]
  },
  {
   "cell_type": "code",
   "execution_count": null,
   "metadata": {},
   "outputs": [],
   "source": [
    "from sys import stdin\n",
    "#MIN_VALUE = -2147483648\n",
    "\n",
    "\n",
    "def secondLargestElement(arr, n):\n",
    "    for i in range(len(arr)):\n",
    "        for j in range(len(arr) - i - 1):\n",
    "            if arr[j] > arr[j+1]:\n",
    "                arr[j],arr[j+1] = arr[j+1],arr[j]\n",
    "    return arr[-2]"
   ]
  },
  {
   "cell_type": "markdown",
   "metadata": {},
   "source": [
    "## Check Array Rotation"
   ]
  },
  {
   "cell_type": "code",
   "execution_count": null,
   "metadata": {},
   "outputs": [],
   "source": [
    "from sys import stdin\n",
    "\n",
    "def arrayRotateCheck(arr, n):\n",
    "    #Your code goes here\n",
    "    left, right = 0, len(arr) - 1\n",
    "    boundary_index = -1\n",
    "\n",
    "    while left <= right:\n",
    "        mid = (left + right) // 2\n",
    "        # if <= last element, then belongs to lower half\n",
    "        if arr[mid] <= arr[-1]:\n",
    "            boundary_index = mid\n",
    "            right = mid - 1\n",
    "        else:\n",
    "            left = mid + 1\n",
    "\n",
    "    if boundary_index < 0:\n",
    "        return 0\n",
    "    return boundary_index"
   ]
  },
  {
   "cell_type": "markdown",
   "metadata": {},
   "source": [
    "## Sort 0 1 2"
   ]
  },
  {
   "cell_type": "code",
   "execution_count": null,
   "metadata": {},
   "outputs": [],
   "source": [
    "from sys import stdin \n",
    "\n",
    "def sort012(arr, n) :\n",
    "    #Your code goes here\n",
    "    i = 0\n",
    "    pz = 0\n",
    "    pt = len(arr) - 1\n",
    "    while i <= pt:\n",
    "        if arr[i] == 0:\n",
    "            arr[i],arr[pz] = arr[pz],arr[i]\n",
    "            pz+=1\n",
    "            i+=1\n",
    "        elif arr[i] == 2:\n",
    "            arr[i],arr[pt] = arr[pt],arr[i]\n",
    "            pt-=1\n",
    "        else:\n",
    "            i+=1\n",
    "    return arr"
   ]
  },
  {
   "cell_type": "markdown",
   "metadata": {},
   "source": [
    "## Sum of Two Arrays"
   ]
  },
  {
   "cell_type": "code",
   "execution_count": null,
   "metadata": {},
   "outputs": [],
   "source": [
    "from sys import stdin\n",
    "\n",
    "def sumOfTwoArrays(arr1, n, arr2, m, output) :\n",
    "    #Your code goes here\n",
    "    idx1 = n - 1\n",
    "    idx2 = m - 1\n",
    "    idx3 = max(n,m)\n",
    "    carry = 0\n",
    "    while idx1 >= 0 and idx2 >= 0:\n",
    "        sum = arr1[idx1] + arr2[idx2] + carry\n",
    "        tens = sum//10\n",
    "        unit = sum%10\n",
    "        output[idx3] = unit\n",
    "        carry = tens\n",
    "        idx1 -= 1\n",
    "        idx2 -= 1\n",
    "        idx3 -= 1\n",
    "    while idx1 >= 0:\n",
    "        sum = arr1[idx1] + carry\n",
    "        tens = sum//10\n",
    "        unit = sum%10\n",
    "        output[idx3] = unit\n",
    "        carry = tens\n",
    "        idx1-=1\n",
    "        idx3-=1\n",
    "    while idx2 >= 0:\n",
    "        sum = arr2[idx2] + carry\n",
    "        tens = sum//10\n",
    "        unit = sum%10\n",
    "        output[idx3] = unit\n",
    "        carry = tens\n",
    "        idx2 -= 1\n",
    "        idx3 -= 1\n",
    "    output[0] = carry\n",
    "    return output\n"
   ]
  }
 ],
 "metadata": {
  "kernelspec": {
   "display_name": "Python 3",
   "language": "python",
   "name": "python3"
  },
  "language_info": {
   "codemirror_mode": {
    "name": "ipython",
    "version": 3
   },
   "file_extension": ".py",
   "mimetype": "text/x-python",
   "name": "python",
   "nbconvert_exporter": "python",
   "pygments_lexer": "ipython3",
   "version": "3.12.3"
  }
 },
 "nbformat": 4,
 "nbformat_minor": 2
}
