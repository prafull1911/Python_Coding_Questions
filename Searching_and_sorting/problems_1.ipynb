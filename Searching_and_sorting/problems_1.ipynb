{
 "cells": [
  {
   "cell_type": "markdown",
   "metadata": {},
   "source": [
    "## Binary Searching"
   ]
  },
  {
   "cell_type": "code",
   "execution_count": 1,
   "metadata": {},
   "outputs": [],
   "source": [
    "def search(nums, target):\n",
    "    # write your code logic !!\n",
    "    nums.sort()\n",
    "    lower_limit = 0\n",
    "    upper_limit = len(nums) - 1\n",
    "    while upper_limit >= lower_limit:\n",
    "        middle = (lower_limit + upper_limit)//2\n",
    "        if nums[middle] == target:\n",
    "            return middle\n",
    "        elif nums[middle] < target:\n",
    "            lower_limit = middle + 1\n",
    "        else:\n",
    "            upper_limit = middle - 1\n",
    "    return -1"
   ]
  },
  {
   "cell_type": "markdown",
   "metadata": {},
   "source": [
    "## Selection Sort"
   ]
  },
  {
   "cell_type": "code",
   "execution_count": 2,
   "metadata": {},
   "outputs": [],
   "source": [
    "from typing import List\n",
    "\n",
    "def selectionSort(arr: List[int]) -> None: \n",
    "    # Write your code here\n",
    "    for i in range(len(arr)-1):\n",
    "        min_index = i\n",
    "        for j in range(i+1,len(arr)):\n",
    "            if arr[j] <= arr[min_index]:\n",
    "                min_index = j\n",
    "        arr[i],arr[min_index] = arr[min_index],arr[i]\n",
    "    return arr"
   ]
  },
  {
   "cell_type": "markdown",
   "metadata": {},
   "source": [
    "## Bubble Sort"
   ]
  },
  {
   "cell_type": "code",
   "execution_count": 3,
   "metadata": {},
   "outputs": [],
   "source": [
    "from typing import List\n",
    "\n",
    "def bubbleSort(arr: List[int], n: int):\n",
    "    # Your code goes here.\n",
    "    for i in range(len(arr)-1):\n",
    "        for j in range(len(arr)-i-1):\n",
    "            if arr[j] > arr[j+1]:\n",
    "                arr[j],arr[j+1] = arr[j+1],arr[j]\n",
    "    return arr"
   ]
  },
  {
   "cell_type": "markdown",
   "metadata": {},
   "source": [
    "## Insertion Sort"
   ]
  },
  {
   "cell_type": "code",
   "execution_count": 4,
   "metadata": {},
   "outputs": [
    {
     "data": {
      "text/plain": [
       "'        \\nclass Runner:\\n    def __init__(self):\\n        self.n = 0\\n        self.arr =[]\\n\\n    def takeInput(self):\\n        self.n = int(input())\\n        self.arr= list(map(int, input().split()))\\n\\n    def execute(self):\\n\\n        ans = insertionSort(self.arr)\\n\\n    def executeAndPrintOutput(self):\\n        ans = insertionSort(self.arr)\\n        print(*self.arr)\\n\\nrunner = Runner()\\nrunner.takeInput()\\nrunner.executeAndPrintOutput() '"
      ]
     },
     "execution_count": 4,
     "metadata": {},
     "output_type": "execute_result"
    }
   ],
   "source": [
    "\n",
    "import os\n",
    "import sys\n",
    "from copy import deepcopy\n",
    "input = lambda: sys.stdin.readline().rstrip(\"\\r\\n\")\n",
    "sys.setrecursionlimit(10 ** 7)\n",
    "def insertionSort(arr):\n",
    "    # write your code here !!!\n",
    "    n = len(arr)\n",
    "    for i in range(1,len(arr)):\n",
    "        j = i - 1\n",
    "        temp = arr[i]\n",
    "        while (j >= 0) and (arr[j] > temp):\n",
    "            arr[j+1] = arr[j]\n",
    "            j-=1\n",
    "        arr[j+1] = temp\n",
    "    return arr\n",
    "\n",
    "\n",
    "\n",
    "\n",
    "\n",
    "    \n",
    "'''        \n",
    "class Runner:\n",
    "    def __init__(self):\n",
    "        self.n = 0\n",
    "        self.arr =[]\n",
    "\n",
    "    def takeInput(self):\n",
    "        self.n = int(input())\n",
    "        self.arr= list(map(int, input().split()))\n",
    "\n",
    "    def execute(self):\n",
    "\n",
    "        ans = insertionSort(self.arr)\n",
    "\n",
    "    def executeAndPrintOutput(self):\n",
    "        ans = insertionSort(self.arr)\n",
    "        print(*self.arr)\n",
    "\n",
    "runner = Runner()\n",
    "runner.takeInput()\n",
    "runner.executeAndPrintOutput() '''"
   ]
  },
  {
   "cell_type": "markdown",
   "metadata": {},
   "source": [
    "## Merge Sort"
   ]
  },
  {
   "cell_type": "code",
   "execution_count": 5,
   "metadata": {},
   "outputs": [],
   "source": [
    "from sys import stdin\n",
    "\n",
    "def merge(arr1, n, arr2, m) : \n",
    "    #Your code goes here\n",
    "    i,j = 0,0\n",
    "    n,m = len(arr1),len(arr2)\n",
    "    a = []\n",
    "    while( i < n) and (j<m):\n",
    "        if arr1[i] < arr2[j]:\n",
    "            a.append(arr1[i])\n",
    "            i+=1\n",
    "        else:\n",
    "            a.append(arr2[j])\n",
    "            j+=1\n",
    "    while i < n:\n",
    "        a.append(arr1[i])\n",
    "        i+=1\n",
    "    \n",
    "    while j < m:\n",
    "        a.append(arr2[j])\n",
    "        j+=1\n",
    "    \n",
    "    return a"
   ]
  }
 ],
 "metadata": {
  "kernelspec": {
   "display_name": "Python 3",
   "language": "python",
   "name": "python3"
  },
  "language_info": {
   "codemirror_mode": {
    "name": "ipython",
    "version": 3
   },
   "file_extension": ".py",
   "mimetype": "text/x-python",
   "name": "python",
   "nbconvert_exporter": "python",
   "pygments_lexer": "ipython3",
   "version": "3.12.3"
  }
 },
 "nbformat": 4,
 "nbformat_minor": 2
}
