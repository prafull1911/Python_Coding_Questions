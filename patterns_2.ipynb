{
 "cells": [
  {
   "cell_type": "markdown",
   "metadata": {},
   "source": [
    "Print the following pattern for n number of rows.\n",
    "\n",
    "Note: each line consist of equal number of characters + spaces. Suppose you are printing xth line for N=n. You need to print 1..x followed by (n-x) spaces, again (n-x) spaces followed by x..1\n",
    "1        1\n",
    "12      21\n",
    "123    321\n",
    "1234  4321\n",
    "1234554321"
   ]
  },
  {
   "cell_type": "code",
   "execution_count": 4,
   "metadata": {},
   "outputs": [
    {
     "name": "stdout",
     "output_type": "stream",
     "text": [
      "1      1\n",
      "12    21\n",
      "123  321\n",
      "12344321\n"
     ]
    }
   ],
   "source": [
    "n = int(input())\n",
    "i = 1\n",
    "while i <=n:\n",
    "    j = 1\n",
    "    while j <= i:\n",
    "        print(j,end=\"\")\n",
    "        j = j+1\n",
    "    sp = 1\n",
    "    while sp <= n - i:\n",
    "        print(\" \",end = \"\")\n",
    "        sp+=1\n",
    "    sp = 1\n",
    "    while sp <= n - i:\n",
    "        print(\" \",end = \"\")\n",
    "        sp+=1\n",
    "    p = i\n",
    "    while p >=1:\n",
    "        print(p,end = \"\")\n",
    "        p = p - 1\n",
    "    print()\n",
    "    i = i+1"
   ]
  },
  {
   "cell_type": "markdown",
   "metadata": {},
   "source": [
    "Print the following pattern\n",
    "\n",
    "Pattern for N = 4\n",
    "\n",
    "*000*000*\n",
    "0*00*00*0\n",
    "00*0*0*00\n",
    "000***000"
   ]
  },
  {
   "cell_type": "code",
   "execution_count": 5,
   "metadata": {},
   "outputs": [
    {
     "name": "stdout",
     "output_type": "stream",
     "text": [
      "*000*000*\n",
      "0*00*00*0\n",
      "00*0*0*00\n",
      "000***000\n"
     ]
    }
   ],
   "source": [
    "from os import *\n",
    "from sys import *\n",
    "from collections import *\n",
    "from math import *\n",
    "n = int(input())\n",
    "rows = 2*n + 1\n",
    "i = 1\n",
    "while i <= n:\n",
    "    j = 1\n",
    "    while j <= rows:\n",
    "        if(j == i or j == (rows // 2 + 1) or j == rows - i +1):\n",
    "            print('*',end = '')\n",
    "            \n",
    "        else:\n",
    "            print('0',end = '')\n",
    "\n",
    "        j = j + 1\n",
    "        \n",
    "    print()\n",
    "    i = i + 1"
   ]
  },
  {
   "cell_type": "markdown",
   "metadata": {},
   "source": [
    "Print the following pattern for the given number of rows.\n",
    "\n",
    "Pattern for N = 4\n",
    "   1\n",
    "  212\n",
    " 32123\n",
    "4321234"
   ]
  },
  {
   "cell_type": "code",
   "execution_count": 6,
   "metadata": {},
   "outputs": [
    {
     "name": "stdout",
     "output_type": "stream",
     "text": [
      "   1\n",
      "  212\n",
      " 32123\n",
      "4321234\n"
     ]
    }
   ],
   "source": [
    "from math import *\n",
    "from collections import *\n",
    "from sys import *\n",
    "from os import *\n",
    "\n",
    "## Read input as specified in the question.\n",
    "## Print output as specified in the question.\n",
    "n = int(input())\n",
    "i = 1\n",
    "while i <= n:\n",
    "    space = 1\n",
    "    while space <= n - i:\n",
    "        print(\" \",end=\"\")\n",
    "        space +=1\n",
    "    j = 1\n",
    "    p = i\n",
    "    while j <= i :\n",
    "        print(p,end = \"\")\n",
    "        p-=1\n",
    "        j+=1\n",
    "    p = 2\n",
    "    while p <= i:\n",
    "        print(p, end ='')\n",
    "        p = p + 1\n",
    "    print()\n",
    "    i+=1"
   ]
  },
  {
   "cell_type": "markdown",
   "metadata": {},
   "source": [
    "Print the following pattern for the given number of rows.\n",
    "\n",
    "Assume N is always odd.\n",
    "\n",
    "Note : There is space after every star. Pattern for N = 7"
   ]
  },
  {
   "cell_type": "code",
   "execution_count": 8,
   "metadata": {},
   "outputs": [
    {
     "name": "stdout",
     "output_type": "stream",
     "text": [
      "* \n",
      " * * \n",
      "  * * * \n",
      "   * * * * \n",
      "  * * * \n",
      " * * \n",
      "* \n"
     ]
    }
   ],
   "source": [
    "N = int(input())\n",
    "n1 = (N+1)//2\n",
    "n2 = (N)//2\n",
    "i = 1\n",
    "k = 1\n",
    "while i <= n1:\n",
    "    space = 0\n",
    "    while space < i - 1:\n",
    "        print(\" \",end=\"\")\n",
    "        space+=1\n",
    "    \n",
    "    j = 1\n",
    "    while j<=i:\n",
    "        print(\"* \",end=\"\")\n",
    "        j+=1\n",
    "    print()\n",
    "    i+=1\n",
    "\n",
    "while k <= n2:\n",
    "    space = 0\n",
    "    while space < n2 - k:\n",
    "        print(\" \",end = \"\")\n",
    "        space+=1\n",
    "    \n",
    "    h = 1\n",
    "    while h <= n2 - k +1:\n",
    "        print(\"* \",end=\"\")\n",
    "        h+=1\n",
    "    \n",
    "    k+=1\n",
    "    print()"
   ]
  }
 ],
 "metadata": {
  "kernelspec": {
   "display_name": "Python 3",
   "language": "python",
   "name": "python3"
  },
  "language_info": {
   "codemirror_mode": {
    "name": "ipython",
    "version": 3
   },
   "file_extension": ".py",
   "mimetype": "text/x-python",
   "name": "python",
   "nbconvert_exporter": "python",
   "pygments_lexer": "ipython3",
   "version": "3.12.3"
  }
 },
 "nbformat": 4,
 "nbformat_minor": 2
}
