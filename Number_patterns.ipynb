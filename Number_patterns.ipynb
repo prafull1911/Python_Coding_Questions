{
 "cells": [
  {
   "cell_type": "markdown",
   "id": "4ef30d13-df7b-41ea-b1cb-eb1f800bdf09",
   "metadata": {},
   "source": [
    "# Number Patterns"
   ]
  },
  {
   "cell_type": "markdown",
   "id": "06f106bf-760d-43a3-a2a6-da1fb5941ed2",
   "metadata": {},
   "source": [
    "1\r\n",
    "11\r\n",
    "111\r\n",
    "1111\r\n",
    "11111"
   ]
  },
  {
   "cell_type": "code",
   "execution_count": null,
   "id": "088d3971-0a00-41fa-a424-9b727c99f4f9",
   "metadata": {},
   "outputs": [],
   "source": [
    "from math import *\n",
    "from collections import *\n",
    "from sys import *\n",
    "from os import *\n",
    "n = int(input())\n",
    "i = 1\n",
    "while i <= n:\n",
    "    j = 1\n",
    "    while j <= i:\n",
    "        print(1,end= '')\n",
    "        j+=1\n",
    "    print()\n",
    "    i+=1"
   ]
  },
  {
   "cell_type": "markdown",
   "id": "2e806e9a-550e-4eee-9788-cc28a6241f3b",
   "metadata": {},
   "source": [
    "Sample Input :\r\n",
    "5\r\n",
    "Sample Output :\r\n",
    "1\r\n",
    "11\r\n",
    "202\r\n",
    "3003\r\n",
    "40004"
   ]
  },
  {
   "cell_type": "code",
   "execution_count": null,
   "id": "54bd2697-42ee-4207-940d-a54910a79336",
   "metadata": {},
   "outputs": [],
   "source": [
    "n = int(input())\n",
    "i = 1\n",
    "while i <= n:\n",
    "    j =1\n",
    "    if i == 1:\n",
    "        print(1,end = \"\")\n",
    "    print()\n",
    "    else:\n",
    "        p = i -1\n",
    "        while j <= i:\n",
    "            if i == j:\n",
    "                print(p,end = '')\n",
    "            else:\n",
    "                print(0 , end= \"\")\n",
    "            j+=1\n",
    "            print()\n",
    "    i+=1"
   ]
  },
  {
   "cell_type": "markdown",
   "id": "20244b3e-f5f8-47b4-8b18-6d0c66b31487",
   "metadata": {},
   "source": [
    "Problem statement\r\n",
    "Print the following pattern for the given N number of rows.\r\n",
    "\r\n",
    "Pattern for N = 4\r\n",
    "1\r\n",
    "11\r\n",
    "12\r\n",
    "1221\r\n"
   ]
  },
  {
   "cell_type": "code",
   "execution_count": null,
   "id": "17a8d4b7-9ca9-4f42-906e-1120fc922ec7",
   "metadata": {},
   "outputs": [],
   "source": [
    "from math import *\n",
    "from collections import *\n",
    "from sys import *\n",
    "from os import *\n",
    "\n",
    "## Read input as specified in the question.\n",
    "## Print output as specified in the question.\n",
    "n = int(input())\n",
    "i = 1\n",
    "while i <= n:\n",
    "    if i <= 2:\n",
    "        j = 1\n",
    "        while j <= i :\n",
    "            print(1,end = \"\")\n",
    "            j+=1\n",
    "        print()\n",
    "    else:\n",
    "        j = 1\n",
    "        while j <= i:\n",
    "            if j==1 or j==i:\n",
    "                print(1,end = \"\")\n",
    "            else:\n",
    "                print(2,end = \"\")\n",
    "            j+=1\n",
    "        print()\n",
    "    i+=1"
   ]
  },
  {
   "cell_type": "markdown",
   "id": "0452ede9-5667-4833-8a69-c1bd87042fe7",
   "metadata": {},
   "source": [
    "Problem statement\r\n",
    "Print the following pattern for the given N number of rows.\r\n",
    "\r\n",
    "Pattern for N = 4\r\n",
    "1234\r\n",
    "123\r\n",
    "12\r\n",
    "1"
   ]
  },
  {
   "cell_type": "code",
   "execution_count": null,
   "id": "36b75f6b-1d8c-4e93-a705-c8e4e693d860",
   "metadata": {},
   "outputs": [],
   "source": [
    "n = int(input())\n",
    "i = n\n",
    "while i > 0 :\n",
    "    j = 1\n",
    "    p =1\n",
    "    while j <= i:\n",
    "        print(p,end = \"\")\n",
    "        p+=1\n",
    "        j +=1\n",
    "    print()\n",
    "    i-=1"
   ]
  },
  {
   "cell_type": "markdown",
   "id": "73114516-fa65-4c95-b735-1e1a6e87e7be",
   "metadata": {},
   "source": [
    "Sample Input 1:\r\n",
    "7\r\n",
    "Sample Output 1:\r\n",
    "A\r\n",
    "BB\r\n",
    "CCC\r\n",
    "DDDD\r\n",
    "EEEEE\r\n",
    "FFFFFF\r\n",
    "GGGGGGG\r\n",
    "Sample Input 2:\r\n",
    "6\r\n",
    "Sample Output 2:\r\n",
    "A\r\n",
    "BB\r\n",
    "CCC\r\n",
    "DDDD\r\n",
    "EEEEE\r\n",
    "FFFFFF"
   ]
  },
  {
   "cell_type": "code",
   "execution_count": null,
   "id": "c924d9f7-7c36-4df9-990a-eb6a48c2cc23",
   "metadata": {},
   "outputs": [],
   "source": [
    "n = int(input())\n",
    "i = 1\n",
    "starting_pt = 'A'\n",
    "while i <= n:\n",
    "    j = 1\n",
    "    while j <= i:\n",
    "        print(chr(ord(starting_pt) + i - 1),end = \"\")\n",
    "        j+=1\n",
    "    print()\n",
    "    i+=1"
   ]
  }
 ],
 "metadata": {
  "kernelspec": {
   "display_name": "Python 3 (ipykernel)",
   "language": "python",
   "name": "python3"
  },
  "language_info": {
   "codemirror_mode": {
    "name": "ipython",
    "version": 3
   },
   "file_extension": ".py",
   "mimetype": "text/x-python",
   "name": "python",
   "nbconvert_exporter": "python",
   "pygments_lexer": "ipython3",
   "version": "3.12.4"
  }
 },
 "nbformat": 4,
 "nbformat_minor": 5
}
