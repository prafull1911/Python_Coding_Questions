{
 "cells": [
  {
   "cell_type": "markdown",
   "metadata": {},
   "source": [
    "# Power of A Number"
   ]
  },
  {
   "cell_type": "code",
   "execution_count": 1,
   "metadata": {},
   "outputs": [
    {
     "ename": "ValueError",
     "evalue": "not enough values to unpack (expected 2, got 0)",
     "output_type": "error",
     "traceback": [
      "\u001b[1;31m---------------------------------------------------------------------------\u001b[0m",
      "\u001b[1;31mValueError\u001b[0m                                Traceback (most recent call last)",
      "Cell \u001b[1;32mIn[1], line 1\u001b[0m\n\u001b[1;32m----> 1\u001b[0m a,b \u001b[38;5;241m=\u001b[39m \u001b[38;5;28minput\u001b[39m()\u001b[38;5;241m.\u001b[39msplit()\n\u001b[0;32m      2\u001b[0m a \u001b[38;5;241m=\u001b[39m \u001b[38;5;28mint\u001b[39m(a)\n\u001b[0;32m      3\u001b[0m b \u001b[38;5;241m=\u001b[39m \u001b[38;5;28mint\u001b[39m(b)\n",
      "\u001b[1;31mValueError\u001b[0m: not enough values to unpack (expected 2, got 0)"
     ]
    }
   ],
   "source": [
    "a,b = input().split()\n",
    "a = int(a)\n",
    "b = int(b)\n",
    "\n",
    "def power(a,b):\n",
    "    if b == 0:\n",
    "        return 1\n",
    "    elif a == 0:\n",
    "        return 0\n",
    "    smallOutput = power(a,b-1)\n",
    "    output = smallOutput * a\n",
    "    return output\n",
    "\n",
    "result = power(a,b)\n",
    "print(result)"
   ]
  },
  {
   "cell_type": "markdown",
   "metadata": {},
   "source": [
    "# Sum of Array"
   ]
  },
  {
   "cell_type": "code",
   "execution_count": 3,
   "metadata": {},
   "outputs": [
    {
     "data": {
      "text/plain": [
       "\"\\n# Main\\nfrom sys import setrecursionlimit\\nsetrecursionlimit(11000)\\nn=int(input())\\narr=list(int(i) for i in input().strip().split(' '))\\nprint(sumArray(arr))\\n\""
      ]
     },
     "execution_count": 3,
     "metadata": {},
     "output_type": "execute_result"
    }
   ],
   "source": [
    "def sumArray(arr):\n",
    "    sum = 0\n",
    "    if len(arr) == 0:\n",
    "        return 0\n",
    "    if len(arr)==1:\n",
    "        return arr[0]\n",
    "    smallOutput = sumArray(arr[1:])\n",
    "    sum = sum + smallOutput\n",
    "    return sum + arr[0]\n",
    "'''\n",
    "# Main\n",
    "from sys import setrecursionlimit\n",
    "setrecursionlimit(11000)\n",
    "n=int(input())\n",
    "arr=list(int(i) for i in input().strip().split(' '))\n",
    "print(sumArray(arr))\n",
    "'''"
   ]
  },
  {
   "cell_type": "markdown",
   "metadata": {},
   "source": [
    "# Check Number in An Array"
   ]
  },
  {
   "cell_type": "code",
   "execution_count": 4,
   "metadata": {},
   "outputs": [
    {
     "data": {
      "text/plain": [
       "\"\\n# Main\\nfrom sys import setrecursionlimit\\nsetrecursionlimit(11000)\\nn=int(input())\\narr=list(int(i) for i in input().strip().split(' '))\\nx=int(input())\\nif checkNumber(arr, x):\\n    print('true')\\nelse:\\n    print('false')\\n\""
      ]
     },
     "execution_count": 4,
     "metadata": {},
     "output_type": "execute_result"
    }
   ],
   "source": [
    "def checkNumber(arr, x):\n",
    "    # Please add your code here\n",
    "    if len(arr) == 0:\n",
    "        return True\n",
    "    if len(arr) == 1:\n",
    "        if arr[0] == x:\n",
    "            return True\n",
    "        return False\n",
    "    if arr[0] == x:\n",
    "        return True\n",
    "    smallOutput = checkNumber(arr[1:],x)\n",
    "    if smallOutput:\n",
    "        return True\n",
    "    return False\n",
    "'''\n",
    "# Main\n",
    "from sys import setrecursionlimit\n",
    "setrecursionlimit(11000)\n",
    "n=int(input())\n",
    "arr=list(int(i) for i in input().strip().split(' '))\n",
    "x=int(input())\n",
    "if checkNumber(arr, x):\n",
    "    print('true')\n",
    "else:\n",
    "    print('false')\n",
    "'''"
   ]
  },
  {
   "cell_type": "markdown",
   "metadata": {},
   "source": [
    "# First Index"
   ]
  },
  {
   "cell_type": "code",
   "execution_count": 5,
   "metadata": {},
   "outputs": [
    {
     "data": {
      "text/plain": [
       "\"\\n# Main\\nfrom sys import setrecursionlimit\\nsetrecursionlimit(11000)\\nn=int(input())\\narr=list(int(i) for i in input().strip().split(' '))\\nx=int(input())\\nprint(firstIndex(arr, x))\\n\""
      ]
     },
     "execution_count": 5,
     "metadata": {},
     "output_type": "execute_result"
    }
   ],
   "source": [
    "def firstIndex(arr, x):\n",
    "    # Please add your code here\n",
    "    l = len(arr)\n",
    "    if l == 0:\n",
    "        return -1\n",
    "    if arr[0] == x:\n",
    "        return 0\n",
    "    \n",
    "    smallerList = arr[1:]\n",
    "    smallerListOutput = firstIndex(smallerList,x)\n",
    "\n",
    "    if smallerListOutput == -1:\n",
    "        return -1\n",
    "    else:\n",
    "        return smallerListOutput + 1\n",
    "'''\n",
    "# Main\n",
    "from sys import setrecursionlimit\n",
    "setrecursionlimit(11000)\n",
    "n=int(input())\n",
    "arr=list(int(i) for i in input().strip().split(' '))\n",
    "x=int(input())\n",
    "print(firstIndex(arr, x))\n",
    "'''"
   ]
  },
  {
   "cell_type": "markdown",
   "metadata": {},
   "source": [
    "# Last Index of X"
   ]
  },
  {
   "cell_type": "code",
   "execution_count": null,
   "metadata": {},
   "outputs": [],
   "source": [
    "from math import *\n",
    "from collections import *\n",
    "from sys import *\n",
    "from os import *\n",
    "\n",
    "## Read input as specified in the question.\n",
    "## Print output as specified in the question.\n",
    "# Input: List of integers and the integer to find\n",
    "l = int(input())\n",
    "arr = list(map(int,input().split()))\n",
    "x = int(input())\n",
    "def lastIndex(arr,x,si = 0):\n",
    "    l = len(arr)\n",
    "    if si==l:\n",
    "        return -1\n",
    "    smallerListOutput = lastIndex(arr,x,si+1)\n",
    "    if smallerListOutput != -1:\n",
    "        return smallerListOutput\n",
    "    \n",
    "    else:\n",
    "        if arr[si] == x:\n",
    "            return si\n",
    "        else:\n",
    "            return -1\n",
    "\n",
    "print(lastIndex(arr,x))"
   ]
  },
  {
   "cell_type": "markdown",
   "metadata": {},
   "source": [
    "# Remove X"
   ]
  },
  {
   "cell_type": "code",
   "execution_count": null,
   "metadata": {},
   "outputs": [],
   "source": [
    "# Problem: Remove x from string\n",
    "def removeX(string): \n",
    "    l = len(string)\n",
    "    if l == 0:\n",
    "        return string\n",
    "    smallOutput= removeX(string[1:])\n",
    "    if string[0] == 'x':\n",
    "        return \"\"+smallOutput\n",
    "    else:\n",
    "        return string[0] + smallOutput\n",
    "\n",
    "# # Main\n",
    "# string = input()\n",
    "# print(removeX(string))"
   ]
  },
  {
   "cell_type": "markdown",
   "metadata": {},
   "source": [
    "# Remove Duplicates"
   ]
  },
  {
   "cell_type": "code",
   "execution_count": null,
   "metadata": {},
   "outputs": [],
   "source": [
    "# Problem ID 91, removeConsecutiveDuplicates\n",
    "def removeConsecutiveDuplicates(string):\n",
    "    # Please add your code here\n",
    "    l = len(string)\n",
    "    if l == 0 or l== 1:\n",
    "        return string\n",
    "    if string[0] == string[1]:\n",
    "        smallOutput = removeConsecutiveDuplicates(string[1:])\n",
    "        return smallOutput\n",
    "    else:\n",
    "        smallOutput = removeConsecutiveDuplicates(string[1:])\n",
    "        return string[0] + smallOutput\n",
    "# # Main\n",
    "# string = input().strip()\n",
    "# print(removeConsecutiveDuplicates(string))"
   ]
  },
  {
   "cell_type": "markdown",
   "metadata": {},
   "source": [
    "# Merge Sort"
   ]
  },
  {
   "cell_type": "code",
   "execution_count": null,
   "metadata": {},
   "outputs": [],
   "source": [
    "def merge(a1,a2,arr):\n",
    "    i = 0\n",
    "    j = 0\n",
    "    k = 0\n",
    "    while i < len(a1) and j < len(a2):\n",
    "        if a1[i] < a2[j]:\n",
    "            arr[k] = a1[i]\n",
    "            k+=1\n",
    "            i+=1\n",
    "        else:\n",
    "            arr[k] = a2[j]\n",
    "            k+=1\n",
    "            j+=1\n",
    "    while i < len(a1):\n",
    "        arr[k] = a1[i]\n",
    "        i+=1\n",
    "        k+=1\n",
    "    while j < len(a2):\n",
    "        arr[k] = a2[j]\n",
    "        j+=1\n",
    "        k+=1\n",
    "\n",
    "def mergeSort(arr: [int], l: int, r: int):\n",
    "    # Write Your Code Here\n",
    "    if len(arr) == 0 or len(arr) == 1:\n",
    "        return \n",
    "    \n",
    "    mid = (l+r)//2\n",
    "    a1 = arr[0:mid]\n",
    "    a2 = arr[mid:]\n",
    "\n",
    "    mergeSort(a1,0,len(a1))\n",
    "    mergeSort(a2,0,len(a2))\n",
    "\n",
    "    merge(a1,a2,arr)\n"
   ]
  }
 ],
 "metadata": {
  "kernelspec": {
   "display_name": "Python 3",
   "language": "python",
   "name": "python3"
  },
  "language_info": {
   "codemirror_mode": {
    "name": "ipython",
    "version": 3
   },
   "file_extension": ".py",
   "mimetype": "text/x-python",
   "name": "python",
   "nbconvert_exporter": "python",
   "pygments_lexer": "ipython3",
   "version": "3.12.3"
  }
 },
 "nbformat": 4,
 "nbformat_minor": 2
}
