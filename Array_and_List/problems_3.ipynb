{
 "cells": [
  {
   "cell_type": "markdown",
   "metadata": {},
   "source": [
    "#Row-Wise Traversal"
   ]
  },
  {
   "cell_type": "code",
   "execution_count": null,
   "metadata": {},
   "outputs": [],
   "source": [
    "from typing import *\n",
    "\n",
    "def printRowWise(a : List[List[int]]) -> List[int]:\n",
    "    # Write your code here.\n",
    "    le = len(a)\n",
    "    l = []\n",
    "    for i in range(le):\n",
    "        for j in range(len(a[i])):\n",
    "            l.append(a[i][j])    \n",
    "    \n",
    "    return l"
   ]
  },
  {
   "cell_type": "markdown",
   "metadata": {},
   "source": [
    "# Row-Wise Sum"
   ]
  },
  {
   "cell_type": "code",
   "execution_count": null,
   "metadata": {},
   "outputs": [],
   "source": [
    "from sys import stdin\n",
    "\n",
    "def rowWiseSum(mat, nRows, mCols):\n",
    "    #Your code goes here\n",
    "    l = []\n",
    "    n = len(mat)\n",
    "    m = len(mat[0])\n",
    "    for i in range(n):\n",
    "        total = 0\n",
    "        for j in range(m):\n",
    "            total += mat[i][j]\n",
    "        print(total,end = \" \")"
   ]
  },
  {
   "cell_type": "markdown",
   "metadata": {},
   "source": [
    "# Set Matrix Zero"
   ]
  },
  {
   "cell_type": "code",
   "execution_count": null,
   "metadata": {},
   "outputs": [],
   "source": [
    "from math import *\n",
    "from collections import *\n",
    "from sys import *\n",
    "from os import *\n",
    "\n",
    "from typing import List\n",
    "def set_col(matrix,col):\n",
    "    for i in range(len(matrix)):\n",
    "        if matrix[i][col] != 0:\n",
    "            matrix[i][col] = -1\n",
    "\n",
    "def set_row(matrix,row):\n",
    "    for i in range(len(matrix[0])):\n",
    "        if matrix[row][i] != 0:\n",
    "            matrix[row][i] = -1\n",
    "\n",
    "def setZeros(matrix):\n",
    "    for i in range(len(matrix)):\n",
    "        for j in range(len(matrix[0])):\n",
    "            if matrix[i][j] == 0:\n",
    "                set_row(matrix,i)\n",
    "                set_col(matrix,j)\n",
    "    \n",
    "    for i in range(len(matrix)):\n",
    "        for j in range(len(matrix[0])):\n",
    "            if matrix[i][j] == -1:\n",
    "                matrix[i][j] = 0\n",
    "    return matrix"
   ]
  },
  {
   "cell_type": "markdown",
   "metadata": {},
   "source": [
    "# Search In A 2D Matrix"
   ]
  },
  {
   "cell_type": "code",
   "execution_count": null,
   "metadata": {},
   "outputs": [],
   "source": [
    "from os import *\n",
    "from sys import *\n",
    "from collections import *\n",
    "from math import *\n",
    "\n",
    "def findTargetInMatrix(mat, m, n, target):\n",
    "\t# Write your code here.\n",
    "\tfor i in range(len(mat)):\n",
    "\t\tfor j in range(len(mat[0])):\n",
    "\t\t\tif mat[i][j] == target:\n",
    "\t\t\t\treturn True\n",
    "\treturn False"
   ]
  },
  {
   "cell_type": "markdown",
   "metadata": {},
   "source": [
    "# Wave Point"
   ]
  },
  {
   "cell_type": "code",
   "execution_count": null,
   "metadata": {},
   "outputs": [],
   "source": [
    "def wavePrint(input_array):\n",
    "    ans = []\n",
    "    rows = len(input_array)\n",
    "    cols = len(input_array[0])\n",
    "    if rows == 0 or cols == 0:\n",
    "        return\n",
    "    else:\n",
    "        for col in range(cols):\n",
    "            if col % 2 == 0:\n",
    "                for row in range(rows):\n",
    "                    ans.append(input_array[row][col])\n",
    "            else:\n",
    "                for row in range(rows - 1, -1, -1):\n",
    "                    ans.append(input_array[row][col])\n",
    "    for i in range(len(ans)):\n",
    "        print(ans[i], end=\" \")\n",
    "\n",
    "if __name__ == \"__main__\":\n",
    "    rows, cols = map(int, input().split())\n",
    "    if rows==0 or cols == 0:\n",
    "        print()\n",
    "    else:\n",
    "        input_array = []\n",
    "        for _ in range(rows):\n",
    "            row = list(map(int, input().split()))\n",
    "            input_array.append(row)\n",
    "        wavePrint(input_array)"
   ]
  },
  {
   "cell_type": "markdown",
   "metadata": {},
   "source": [
    "# Check If Matrix is X-Matrix"
   ]
  },
  {
   "cell_type": "code",
   "execution_count": null,
   "metadata": {},
   "outputs": [],
   "source": [
    "def checkXMatrix(grid):\n",
    "    # write your code here !!!\n",
    "    n = len(grid)\n",
    "    for i in range(n):\n",
    "            for j in range(n):\n",
    "                if i == j or i + j == n-1:\n",
    "                    if grid[i][j] == 0:\n",
    "                        return False\n",
    "                else:\n",
    "                    if grid[i][j] != 0:\n",
    "                        return False\n",
    "    return True"
   ]
  }
 ],
 "metadata": {
  "kernelspec": {
   "display_name": "Python 3",
   "language": "python",
   "name": "python3"
  },
  "language_info": {
   "name": "python",
   "version": "3.12.3"
  }
 },
 "nbformat": 4,
 "nbformat_minor": 2
}
