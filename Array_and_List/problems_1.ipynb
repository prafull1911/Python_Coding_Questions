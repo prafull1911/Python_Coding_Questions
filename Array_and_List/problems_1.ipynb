{
 "cells": [
  {
   "cell_type": "markdown",
   "metadata": {},
   "source": [
    "## Smallest Element"
   ]
  },
  {
   "cell_type": "code",
   "execution_count": 1,
   "metadata": {},
   "outputs": [],
   "source": [
    "def minimum_ele(arr,n):\n",
    "    min_ele = arr[0]\n",
    "    for i in arr:\n",
    "        if i < min_ele:\n",
    "            min_ele = i\n",
    "    return min_ele"
   ]
  },
  {
   "cell_type": "markdown",
   "metadata": {},
   "source": [
    "## Array Sum"
   ]
  },
  {
   "cell_type": "code",
   "execution_count": 4,
   "metadata": {},
   "outputs": [
    {
     "data": {
      "text/plain": [
       "'\\nn = int(input())\\narr = list(map(int, input().split()))\\nprint(is_sum(arr, n))\\n'"
      ]
     },
     "execution_count": 4,
     "metadata": {},
     "output_type": "execute_result"
    }
   ],
   "source": [
    "def is_sum(arr,n):\n",
    "    sum = 0\n",
    "    for i in arr:\n",
    "        sum+=i\n",
    "    return sum\n",
    "'''\n",
    "n = int(input())\n",
    "arr = list(map(int, input().split()))\n",
    "print(is_sum(arr, n))\n",
    "'''"
   ]
  },
  {
   "cell_type": "markdown",
   "metadata": {},
   "source": [
    "# Swap Alternate"
   ]
  },
  {
   "cell_type": "code",
   "execution_count": 5,
   "metadata": {},
   "outputs": [],
   "source": [
    "def swapAlternate(arr, n) :\n",
    "    #Your code goes here\n",
    "    l = len(arr)\n",
    "    if l%2 == 0:\n",
    "        for i in range(0,l,2):\n",
    "            arr[i],arr[i+1] = arr[i+1],arr[i]\n",
    "    else:\n",
    "        for i in range(0,l-1,2):\n",
    "            arr[i],arr[i+1] = arr[i+1],arr[i]\n",
    "    return arr"
   ]
  },
  {
   "cell_type": "markdown",
   "metadata": {},
   "source": [
    "## Arrange the numbers in the Array "
   ]
  },
  {
   "cell_type": "code",
   "execution_count": 6,
   "metadata": {},
   "outputs": [],
   "source": [
    "from sys import stdin\n",
    "\n",
    "def arrange(arr, n) :\n",
    "    #Your code goes here\n",
    "    start = 0\n",
    "    end = n-1\n",
    "    ele = 1\n",
    "    while start<= end:\n",
    "        if start == end:\n",
    "            arr[start] == n\n",
    "        else:\n",
    "            arr[start] = ele\n",
    "            arr[end] = arr[start]+1\n",
    "        ele = arr[end]\n",
    "        ele+=1\n",
    "        start += 1\n",
    "        end -= 1\n",
    "    return arr"
   ]
  },
  {
   "cell_type": "markdown",
   "metadata": {},
   "source": [
    "## Triplet Sum"
   ]
  },
  {
   "cell_type": "code",
   "execution_count": 7,
   "metadata": {},
   "outputs": [],
   "source": [
    "\n",
    "from sys import stdin\n",
    "\n",
    "def findTriplet(arr, n, x) :\n",
    "    \n",
    "    total = 0\n",
    "    for i in range(len(arr)):\n",
    "        first_ele = arr[i]\n",
    "        for j in range(i+1,len(arr)):\n",
    "            second_ele = arr[j]\n",
    "            expected = x - first_ele - second_ele\n",
    "            for k in range(j+1,len(arr)):\n",
    "                if arr[k] == expected:\n",
    "                    total+=1\n",
    "    return total\n"
   ]
  }
 ],
 "metadata": {
  "kernelspec": {
   "display_name": "Python 3",
   "language": "python",
   "name": "python3"
  },
  "language_info": {
   "codemirror_mode": {
    "name": "ipython",
    "version": 3
   },
   "file_extension": ".py",
   "mimetype": "text/x-python",
   "name": "python",
   "nbconvert_exporter": "python",
   "pygments_lexer": "ipython3",
   "version": "3.12.3"
  }
 },
 "nbformat": 4,
 "nbformat_minor": 2
}
