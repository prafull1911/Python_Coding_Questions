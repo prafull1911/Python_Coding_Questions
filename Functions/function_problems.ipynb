{
 "cells": [
  {
   "cell_type": "code",
   "execution_count": null,
   "metadata": {},
   "outputs": [],
   "source": [
    "# Fahrenheit to Celsius Function\n",
    "def printTable(start,end,step):\n",
    "\tif (end >=0) and (end > start):\n",
    "\t\tfor i in range(start,end+1,step):\n",
    "\t\t\tf = i\n",
    "\t\t\tc = (f - 32)*(5/9)\n",
    "\t\t\tprint(f,\"\",int(c))\n",
    "\telse:\n",
    "\t\tfor i in range(end,start-1,step):\n",
    "\t\t\tf = i\n",
    "\t\t\tc = (f-32)*(5/9)\n",
    "\t\t\tprint(f,\"\",int(c))\n",
    "\n",
    "#Implement Your Code Here\n",
    "\n",
    "\n",
    "\t   \n",
    "s = int(input())\n",
    "e = int(input())\n",
    "step = int(input())\n",
    "printTable(s,e,step)"
   ]
  },
  {
   "cell_type": "code",
   "execution_count": null,
   "metadata": {},
   "outputs": [],
   "source": [
    "# Fibonacci Number\n",
    "def checkMember(n):\n",
    "#Implement Your Code Here\n",
    "    a = 0\n",
    "    b = 1\n",
    "    c = -1\n",
    "    if n==0:\n",
    "        return True\n",
    "    while a < n:\n",
    "        c = a+b\n",
    "        a = b\n",
    "        b = c\n",
    "    if a == n:\n",
    "        return True\n",
    "    return False\n",
    "    \n",
    "\n",
    "n=int(input())\n",
    "if(checkMember(n)):\n",
    "    print(\"true\")\n",
    "else:\n",
    "    print(\"false\")"
   ]
  },
  {
   "cell_type": "code",
   "execution_count": null,
   "metadata": {},
   "outputs": [],
   "source": [
    "#Palindrome Number\n",
    "n = int(input('Enter The Number: '))\n",
    "def is_palindrome(n):\n",
    "    temp = n\n",
    "    rev_num = 0\n",
    "    while temp > 0:\n",
    "        last_digit = temp%10\n",
    "        rev_num = rev_num*10 + last_digit\n",
    "        temp//=10\n",
    "    if rev_num == n:\n",
    "        return True\n",
    "    return False\n",
    "result = is_palindrome(n)\n",
    "if result:\n",
    "    print('true')\n",
    "else:\n",
    "    print('false')"
   ]
  },
  {
   "cell_type": "code",
   "execution_count": null,
   "metadata": {},
   "outputs": [],
   "source": [
    "# Check whether the Number is Armstrong or not\n",
    "from os import *\n",
    "from sys import *\n",
    "from collections import *\n",
    "from math import *\n",
    "def is_armstrong(n):\n",
    "    \n",
    "    l = len(str(n))\n",
    "    sum = 0\n",
    "    temp = n\n",
    "    if n==0 or n== 1:\n",
    "        return True\n",
    "    while temp > 0:\n",
    "        digit = temp%10\n",
    "        sum += digit**l\n",
    "        temp//=10\n",
    "\n",
    "n = int(input())\n",
    "res = is_armstrong(n)\n",
    "if res:\n",
    "    print('true')\n",
    "else:\n",
    "    print('false')"
   ]
  }
 ],
 "metadata": {
  "language_info": {
   "name": "python"
  }
 },
 "nbformat": 4,
 "nbformat_minor": 2
}
