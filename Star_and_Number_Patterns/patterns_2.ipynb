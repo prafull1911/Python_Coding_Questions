{
 "cells": [
  {
   "cell_type": "markdown",
   "metadata": {},
   "source": [
    "Print the following pattern for n number of rows.\n",
    "\n",
    "Note: each line consist of equal number of characters + spaces. Suppose you are printing xth line for N=n. You need to print 1..x followed by (n-x) spaces, again (n-x) spaces followed by x..1\n",
    "1        1\n",
    "12      21\n",
    "123    321\n",
    "1234  4321\n",
    "1234554321"
   ]
  },
  {
   "cell_type": "code",
   "execution_count": null,
   "metadata": {},
   "outputs": [],
   "source": [
    "n = int(input())\n",
    "i = 1\n",
    "while i <=n:\n",
    "    j = 1\n",
    "    while j <= i:\n",
    "        print(j,end=\"\")\n",
    "        j = j+1\n",
    "    sp = 1\n",
    "    while sp <= n - i:\n",
    "        print(\" \",end = \"\")\n",
    "        sp+=1\n",
    "    sp = 1\n",
    "    while sp <= n - i:\n",
    "        print(\" \",end = \"\")\n",
    "        sp+=1\n",
    "    p = i\n",
    "    while p >=1:\n",
    "        print(p,end = \"\")\n",
    "        p = p - 1\n",
    "    print()\n",
    "    i = i+1"
   ]
  },
  {
   "cell_type": "markdown",
   "metadata": {},
   "source": [
    "Print the following pattern\n",
    "\n",
    "Pattern for N = 4\n",
    "\n",
    "*000*000*\n",
    "0*00*00*0\n",
    "00*0*0*00\n",
    "000***000"
   ]
  },
  {
   "cell_type": "code",
   "execution_count": null,
   "metadata": {},
   "outputs": [],
   "source": [
    "from os import *\n",
    "from sys import *\n",
    "from collections import *\n",
    "from math import *\n",
    "n = int(input())\n",
    "rows = 2*n + 1\n",
    "i = 1\n",
    "while i <= n:\n",
    "    j = 1\n",
    "    while j <= rows:\n",
    "        if(j == i or j == (rows // 2 + 1) or j == rows - i +1):\n",
    "            print('*',end = '')\n",
    "            \n",
    "        else:\n",
    "            print('0',end = '')\n",
    "\n",
    "        j = j + 1\n",
    "        \n",
    "    print()\n",
    "    i = i + 1"
   ]
  },
  {
   "cell_type": "markdown",
   "metadata": {},
   "source": [
    "Print the following pattern for the given number of rows.\n",
    "\n",
    "Pattern for N = 4\n",
    "   1\n",
    "  212\n",
    " 32123\n",
    "4321234"
   ]
  },
  {
   "cell_type": "code",
   "execution_count": null,
   "metadata": {},
   "outputs": [],
   "source": [
    "n = int(input())\n",
    "i = 1\n",
    "while i <= n:\n",
    "    space = 1\n",
    "    while space <= n - i:\n",
    "        print(\" \",end=\"\")\n",
    "        space +=1\n",
    "    j = 1\n",
    "    p = i\n",
    "    while j <= i :\n",
    "        print(p,end = \"\")\n",
    "        p-=1\n",
    "        j+=1\n",
    "    p = 2\n",
    "    while p <= i:\n",
    "        print(p, end ='')\n",
    "        p = p + 1\n",
    "    print()\n",
    "    i+=1"
   ]
  },
  {
   "cell_type": "markdown",
   "metadata": {},
   "source": [
    "Print the following pattern for the given number of rows.\n",
    "\n",
    "Assume N is always odd.\n",
    "\n",
    "Note : There is space after every star. Pattern for N = 7\n",
    "*\n",
    " * *\n",
    "   * * *\n",
    "     * * * *\n",
    "   * * *\n",
    " * *\n",
    "*"
   ]
  },
  {
   "cell_type": "code",
   "execution_count": null,
   "metadata": {},
   "outputs": [],
   "source": [
    "N = int(input())\n",
    "n1 = (N+1)//2\n",
    "n2 = (N)//2\n",
    "i = 1\n",
    "k = 1\n",
    "while i <= n1:\n",
    "    space = 0\n",
    "    while space < i - 1:\n",
    "        print(\" \",end=\"\")\n",
    "        space+=1\n",
    "    \n",
    "    j = 1\n",
    "    while j<=i:\n",
    "        print(\"* \",end=\"\")\n",
    "        j+=1\n",
    "    print()\n",
    "    i+=1\n",
    "\n",
    "while k <= n2:\n",
    "    space = 0\n",
    "    while space < n2 - k:\n",
    "        print(\" \",end = \"\")\n",
    "        space+=1\n",
    "    \n",
    "    h = 1\n",
    "    while h <= n2 - k +1:\n",
    "        print(\"* \",end=\"\")\n",
    "        h+=1\n",
    "    \n",
    "    k+=1\n",
    "    print()"
   ]
  }
 ],
 "metadata": {
  "language_info": {
   "name": "python"
  }
 },
 "nbformat": 4,
 "nbformat_minor": 2
}
